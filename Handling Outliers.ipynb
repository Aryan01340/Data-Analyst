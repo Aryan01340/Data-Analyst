{
 "cells": [
  {
   "cell_type": "code",
   "execution_count": 1,
   "id": "10df4e42-db2b-4250-b016-b2d26bb3fea3",
   "metadata": {},
   "outputs": [],
   "source": [
    "import pandas as pd\n",
    "import numpy as np\n",
    "import matplotlib.pyplot as plt\n",
    "import seaborn as sns"
   ]
  },
  {
   "cell_type": "code",
   "execution_count": 3,
   "id": "5356fa9c-9d85-4ba3-9bd0-0309f6c451e5",
   "metadata": {},
   "outputs": [
    {
     "data": {
      "text/html": [
       "<div>\n",
       "<style scoped>\n",
       "    .dataframe tbody tr th:only-of-type {\n",
       "        vertical-align: middle;\n",
       "    }\n",
       "\n",
       "    .dataframe tbody tr th {\n",
       "        vertical-align: top;\n",
       "    }\n",
       "\n",
       "    .dataframe thead th {\n",
       "        text-align: right;\n",
       "    }\n",
       "</style>\n",
       "<table border=\"1\" class=\"dataframe\">\n",
       "  <thead>\n",
       "    <tr style=\"text-align: right;\">\n",
       "      <th></th>\n",
       "      <th>age</th>\n",
       "      <th>sex</th>\n",
       "      <th>weight</th>\n",
       "      <th>bmi</th>\n",
       "      <th>hereditary_diseases</th>\n",
       "      <th>no_of_dependents</th>\n",
       "      <th>smoker</th>\n",
       "      <th>city</th>\n",
       "      <th>bloodpressure</th>\n",
       "      <th>diabetes</th>\n",
       "      <th>regular_ex</th>\n",
       "      <th>job_title</th>\n",
       "      <th>claim</th>\n",
       "    </tr>\n",
       "  </thead>\n",
       "  <tbody>\n",
       "    <tr>\n",
       "      <th>0</th>\n",
       "      <td>60.0</td>\n",
       "      <td>male</td>\n",
       "      <td>64</td>\n",
       "      <td>24.3</td>\n",
       "      <td>NoDisease</td>\n",
       "      <td>1</td>\n",
       "      <td>0</td>\n",
       "      <td>NewYork</td>\n",
       "      <td>72</td>\n",
       "      <td>0</td>\n",
       "      <td>0</td>\n",
       "      <td>Actor</td>\n",
       "      <td>13112.6</td>\n",
       "    </tr>\n",
       "    <tr>\n",
       "      <th>1</th>\n",
       "      <td>49.0</td>\n",
       "      <td>female</td>\n",
       "      <td>75</td>\n",
       "      <td>22.6</td>\n",
       "      <td>NoDisease</td>\n",
       "      <td>1</td>\n",
       "      <td>0</td>\n",
       "      <td>Boston</td>\n",
       "      <td>78</td>\n",
       "      <td>1</td>\n",
       "      <td>1</td>\n",
       "      <td>Engineer</td>\n",
       "      <td>9567.0</td>\n",
       "    </tr>\n",
       "  </tbody>\n",
       "</table>\n",
       "</div>"
      ],
      "text/plain": [
       "    age     sex  weight   bmi hereditary_diseases  no_of_dependents  smoker  \\\n",
       "0  60.0    male      64  24.3           NoDisease                 1       0   \n",
       "1  49.0  female      75  22.6           NoDisease                 1       0   \n",
       "\n",
       "      city  bloodpressure  diabetes  regular_ex job_title    claim  \n",
       "0  NewYork             72         0           0     Actor  13112.6  \n",
       "1   Boston             78         1           1  Engineer   9567.0  "
      ]
     },
     "execution_count": 3,
     "metadata": {},
     "output_type": "execute_result"
    }
   ],
   "source": [
    "df=pd.read_csv(\"C:/Users/DELL/Documents/healthinsurance.csv.xls\")\n",
    "df.head(2)"
   ]
  },
  {
   "cell_type": "code",
   "execution_count": 5,
   "id": "52ff2307-a97d-454e-a51f-56fc69d4a314",
   "metadata": {},
   "outputs": [
    {
     "name": "stdout",
     "output_type": "stream",
     "text": [
      "<class 'pandas.core.frame.DataFrame'>\n",
      "RangeIndex: 15000 entries, 0 to 14999\n",
      "Data columns (total 13 columns):\n",
      " #   Column               Non-Null Count  Dtype  \n",
      "---  ------               --------------  -----  \n",
      " 0   age                  14604 non-null  float64\n",
      " 1   sex                  15000 non-null  object \n",
      " 2   weight               15000 non-null  int64  \n",
      " 3   bmi                  14044 non-null  float64\n",
      " 4   hereditary_diseases  15000 non-null  object \n",
      " 5   no_of_dependents     15000 non-null  int64  \n",
      " 6   smoker               15000 non-null  int64  \n",
      " 7   city                 15000 non-null  object \n",
      " 8   bloodpressure        15000 non-null  int64  \n",
      " 9   diabetes             15000 non-null  int64  \n",
      " 10  regular_ex           15000 non-null  int64  \n",
      " 11  job_title            15000 non-null  object \n",
      " 12  claim                15000 non-null  float64\n",
      "dtypes: float64(3), int64(6), object(4)\n",
      "memory usage: 1.5+ MB\n"
     ]
    }
   ],
   "source": [
    "df.info()"
   ]
  },
  {
   "cell_type": "code",
   "execution_count": 7,
   "id": "55f047b4-ad5a-4321-9b19-e5948fa79954",
   "metadata": {},
   "outputs": [
    {
     "data": {
      "image/png": "[encoded data removed]",
      "text/plain": [
       "<Figure size 640x480 with 1 Axes>"
      ]
     },
     "metadata": {},
     "output_type": "display_data"
    }
   ],
   "source": [
    "sns.boxplot(x='bmi',data=df)\n",
    "plt.show()"
   ]
  },
  {
   "cell_type": "code",
   "execution_count": 41,
   "id": "952341da-1aa0-419e-8cfd-f623d2d536dc",
   "metadata": {},
   "outputs": [
    {
     "data": {
      "text/plain": [
       "25.7"
      ]
     },
     "execution_count": 41,
     "metadata": {},
     "output_type": "execute_result"
    }
   ],
   "source": [
    "q1=df['bmi'].quantile(0.25)\n",
    "q1"
   ]
  },
  {
   "cell_type": "code",
   "execution_count": 43,
   "id": "d0e9d224-2a71-41cd-aed7-9289aa2356d2",
   "metadata": {},
   "outputs": [
    {
     "data": {
      "text/plain": [
       "34.4"
      ]
     },
     "execution_count": 43,
     "metadata": {},
     "output_type": "execute_result"
    }
   ],
   "source": [
    "q3=df['bmi'].quantile(0.75)\n",
    "q3"
   ]
  },
  {
   "cell_type": "code",
   "execution_count": 45,
   "id": "878728af-b0d9-4f7d-83d0-099074a88784",
   "metadata": {},
   "outputs": [
    {
     "data": {
      "text/plain": [
       "8.7"
      ]
     },
     "execution_count": 45,
     "metadata": {},
     "output_type": "execute_result"
    }
   ],
   "source": [
    "iqr=q3-q1\n",
    "iqr"
   ]
  },
  {
   "cell_type": "code",
   "execution_count": 49,
   "id": "ff57477e-8bab-42e5-b971-3e402598399d",
   "metadata": {},
   "outputs": [
    {
     "data": {
      "text/plain": [
       "47.449999999999996"
      ]
     },
     "execution_count": 49,
     "metadata": {},
     "output_type": "execute_result"
    }
   ],
   "source": [
    "preg_high=q3+1.5*iqr\n",
    "preg_high"
   ]
  },
  {
   "cell_type": "code",
   "execution_count": 51,
   "id": "17fb4286-def3-480b-959c-b770d6cb3474",
   "metadata": {},
   "outputs": [
    {
     "data": {
      "text/plain": [
       "(array([  197,   381,   492,  1480,  1662,  1688,  2094,  2139,  2751,\n",
       "         3272,  4251,  4472,  4532,  4818,  4926,  4969,  4990,  5505,\n",
       "         5629,  6731,  6740,  7434,  7483,  7498,  7530,  7950,  8231,\n",
       "         8349,  8351,  8406,  8860,  9108,  9120,  9261,  9320, 10337,\n",
       "        10571, 11113, 11212, 11262, 11437, 11644, 11879, 12093, 12211,\n",
       "        12515, 12766, 12876, 12925, 13063, 13261, 13595, 13906, 14083,\n",
       "        14370, 14712, 14728, 14788, 14808, 14887, 14987], dtype=int64),)"
      ]
     },
     "execution_count": 51,
     "metadata": {},
     "output_type": "execute_result"
    }
   ],
   "source": [
    "a=np.where(df['bmi']>preg_high)\n",
    "a"
   ]
  },
  {
   "cell_type": "code",
   "execution_count": 53,
   "id": "2227ded3-4fee-4c24-987b-840991f260bc",
   "metadata": {},
   "outputs": [],
   "source": [
    "df=df.drop(df.index[a])"
   ]
  },
  {
   "cell_type": "code",
   "execution_count": 55,
   "id": "0f610708-be96-42ca-a3de-a528266dbabf",
   "metadata": {},
   "outputs": [
    {
     "data": {
      "text/html": [
       "<div>\n",
       "<style scoped>\n",
       "    .dataframe tbody tr th:only-of-type {\n",
       "        vertical-align: middle;\n",
       "    }\n",
       "\n",
       "    .dataframe tbody tr th {\n",
       "        vertical-align: top;\n",
       "    }\n",
       "\n",
       "    .dataframe thead th {\n",
       "        text-align: right;\n",
       "    }\n",
       "</style>\n",
       "<table border=\"1\" class=\"dataframe\">\n",
       "  <thead>\n",
       "    <tr style=\"text-align: right;\">\n",
       "      <th></th>\n",
       "      <th>index</th>\n",
       "      <th>age</th>\n",
       "      <th>sex</th>\n",
       "      <th>weight</th>\n",
       "      <th>bmi</th>\n",
       "      <th>hereditary_diseases</th>\n",
       "      <th>no_of_dependents</th>\n",
       "      <th>smoker</th>\n",
       "      <th>city</th>\n",
       "      <th>bloodpressure</th>\n",
       "      <th>diabetes</th>\n",
       "      <th>regular_ex</th>\n",
       "      <th>job_title</th>\n",
       "      <th>claim</th>\n",
       "    </tr>\n",
       "  </thead>\n",
       "  <tbody>\n",
       "    <tr>\n",
       "      <th>0</th>\n",
       "      <td>0</td>\n",
       "      <td>60.0</td>\n",
       "      <td>male</td>\n",
       "      <td>64</td>\n",
       "      <td>24.3</td>\n",
       "      <td>NoDisease</td>\n",
       "      <td>1</td>\n",
       "      <td>0</td>\n",
       "      <td>NewYork</td>\n",
       "      <td>72</td>\n",
       "      <td>0</td>\n",
       "      <td>0</td>\n",
       "      <td>Actor</td>\n",
       "      <td>13112.6</td>\n",
       "    </tr>\n",
       "    <tr>\n",
       "      <th>1</th>\n",
       "      <td>1</td>\n",
       "      <td>49.0</td>\n",
       "      <td>female</td>\n",
       "      <td>75</td>\n",
       "      <td>22.6</td>\n",
       "      <td>NoDisease</td>\n",
       "      <td>1</td>\n",
       "      <td>0</td>\n",
       "      <td>Boston</td>\n",
       "      <td>78</td>\n",
       "      <td>1</td>\n",
       "      <td>1</td>\n",
       "      <td>Engineer</td>\n",
       "      <td>9567.0</td>\n",
       "    </tr>\n",
       "    <tr>\n",
       "      <th>2</th>\n",
       "      <td>2</td>\n",
       "      <td>32.0</td>\n",
       "      <td>female</td>\n",
       "      <td>64</td>\n",
       "      <td>17.8</td>\n",
       "      <td>Epilepsy</td>\n",
       "      <td>2</td>\n",
       "      <td>1</td>\n",
       "      <td>Phildelphia</td>\n",
       "      <td>88</td>\n",
       "      <td>1</td>\n",
       "      <td>1</td>\n",
       "      <td>Academician</td>\n",
       "      <td>32734.2</td>\n",
       "    </tr>\n",
       "    <tr>\n",
       "      <th>3</th>\n",
       "      <td>3</td>\n",
       "      <td>61.0</td>\n",
       "      <td>female</td>\n",
       "      <td>53</td>\n",
       "      <td>36.4</td>\n",
       "      <td>NoDisease</td>\n",
       "      <td>1</td>\n",
       "      <td>1</td>\n",
       "      <td>Pittsburg</td>\n",
       "      <td>72</td>\n",
       "      <td>1</td>\n",
       "      <td>0</td>\n",
       "      <td>Chef</td>\n",
       "      <td>48517.6</td>\n",
       "    </tr>\n",
       "    <tr>\n",
       "      <th>4</th>\n",
       "      <td>4</td>\n",
       "      <td>19.0</td>\n",
       "      <td>female</td>\n",
       "      <td>50</td>\n",
       "      <td>20.6</td>\n",
       "      <td>NoDisease</td>\n",
       "      <td>0</td>\n",
       "      <td>0</td>\n",
       "      <td>Buffalo</td>\n",
       "      <td>82</td>\n",
       "      <td>1</td>\n",
       "      <td>0</td>\n",
       "      <td>HomeMakers</td>\n",
       "      <td>1731.7</td>\n",
       "    </tr>\n",
       "    <tr>\n",
       "      <th>...</th>\n",
       "      <td>...</td>\n",
       "      <td>...</td>\n",
       "      <td>...</td>\n",
       "      <td>...</td>\n",
       "      <td>...</td>\n",
       "      <td>...</td>\n",
       "      <td>...</td>\n",
       "      <td>...</td>\n",
       "      <td>...</td>\n",
       "      <td>...</td>\n",
       "      <td>...</td>\n",
       "      <td>...</td>\n",
       "      <td>...</td>\n",
       "      <td>...</td>\n",
       "    </tr>\n",
       "    <tr>\n",
       "      <th>14934</th>\n",
       "      <td>14995</td>\n",
       "      <td>39.0</td>\n",
       "      <td>male</td>\n",
       "      <td>49</td>\n",
       "      <td>28.3</td>\n",
       "      <td>NoDisease</td>\n",
       "      <td>1</td>\n",
       "      <td>1</td>\n",
       "      <td>Florence</td>\n",
       "      <td>54</td>\n",
       "      <td>1</td>\n",
       "      <td>0</td>\n",
       "      <td>FilmMaker</td>\n",
       "      <td>21082.2</td>\n",
       "    </tr>\n",
       "    <tr>\n",
       "      <th>14935</th>\n",
       "      <td>14996</td>\n",
       "      <td>39.0</td>\n",
       "      <td>male</td>\n",
       "      <td>74</td>\n",
       "      <td>29.6</td>\n",
       "      <td>NoDisease</td>\n",
       "      <td>4</td>\n",
       "      <td>0</td>\n",
       "      <td>Miami</td>\n",
       "      <td>64</td>\n",
       "      <td>1</td>\n",
       "      <td>0</td>\n",
       "      <td>Student</td>\n",
       "      <td>7512.3</td>\n",
       "    </tr>\n",
       "    <tr>\n",
       "      <th>14936</th>\n",
       "      <td>14997</td>\n",
       "      <td>20.0</td>\n",
       "      <td>male</td>\n",
       "      <td>62</td>\n",
       "      <td>33.3</td>\n",
       "      <td>NoDisease</td>\n",
       "      <td>0</td>\n",
       "      <td>0</td>\n",
       "      <td>Tampa</td>\n",
       "      <td>52</td>\n",
       "      <td>1</td>\n",
       "      <td>0</td>\n",
       "      <td>FashionDesigner</td>\n",
       "      <td>1391.5</td>\n",
       "    </tr>\n",
       "    <tr>\n",
       "      <th>14937</th>\n",
       "      <td>14998</td>\n",
       "      <td>52.0</td>\n",
       "      <td>male</td>\n",
       "      <td>88</td>\n",
       "      <td>36.7</td>\n",
       "      <td>NoDisease</td>\n",
       "      <td>0</td>\n",
       "      <td>0</td>\n",
       "      <td>PanamaCity</td>\n",
       "      <td>70</td>\n",
       "      <td>1</td>\n",
       "      <td>0</td>\n",
       "      <td>Farmer</td>\n",
       "      <td>9144.6</td>\n",
       "    </tr>\n",
       "    <tr>\n",
       "      <th>14938</th>\n",
       "      <td>14999</td>\n",
       "      <td>52.0</td>\n",
       "      <td>male</td>\n",
       "      <td>57</td>\n",
       "      <td>26.4</td>\n",
       "      <td>NoDisease</td>\n",
       "      <td>3</td>\n",
       "      <td>0</td>\n",
       "      <td>Kingsport</td>\n",
       "      <td>72</td>\n",
       "      <td>1</td>\n",
       "      <td>0</td>\n",
       "      <td>Manager</td>\n",
       "      <td>25992.8</td>\n",
       "    </tr>\n",
       "  </tbody>\n",
       "</table>\n",
       "<p>14939 rows × 14 columns</p>\n",
       "</div>"
      ],
      "text/plain": [
       "       index   age     sex  weight   bmi hereditary_diseases  \\\n",
       "0          0  60.0    male      64  24.3           NoDisease   \n",
       "1          1  49.0  female      75  22.6           NoDisease   \n",
       "2          2  32.0  female      64  17.8            Epilepsy   \n",
       "3          3  61.0  female      53  36.4           NoDisease   \n",
       "4          4  19.0  female      50  20.6           NoDisease   \n",
       "...      ...   ...     ...     ...   ...                 ...   \n",
       "14934  14995  39.0    male      49  28.3           NoDisease   \n",
       "14935  14996  39.0    male      74  29.6           NoDisease   \n",
       "14936  14997  20.0    male      62  33.3           NoDisease   \n",
       "14937  14998  52.0    male      88  36.7           NoDisease   \n",
       "14938  14999  52.0    male      57  26.4           NoDisease   \n",
       "\n",
       "       no_of_dependents  smoker         city  bloodpressure  diabetes  \\\n",
       "0                     1       0      NewYork             72         0   \n",
       "1                     1       0       Boston             78         1   \n",
       "2                     2       1  Phildelphia             88         1   \n",
       "3                     1       1    Pittsburg             72         1   \n",
       "4                     0       0      Buffalo             82         1   \n",
       "...                 ...     ...          ...            ...       ...   \n",
       "14934                 1       1     Florence             54         1   \n",
       "14935                 4       0        Miami             64         1   \n",
       "14936                 0       0        Tampa             52         1   \n",
       "14937                 0       0   PanamaCity             70         1   \n",
       "14938                 3       0    Kingsport             72         1   \n",
       "\n",
       "       regular_ex        job_title    claim  \n",
       "0               0            Actor  13112.6  \n",
       "1               1         Engineer   9567.0  \n",
       "2               1      Academician  32734.2  \n",
       "3               0             Chef  48517.6  \n",
       "4               0       HomeMakers   1731.7  \n",
       "...           ...              ...      ...  \n",
       "14934           0        FilmMaker  21082.2  \n",
       "14935           0          Student   7512.3  \n",
       "14936           0  FashionDesigner   1391.5  \n",
       "14937           0           Farmer   9144.6  \n",
       "14938           0          Manager  25992.8  \n",
       "\n",
       "[14939 rows x 14 columns]"
      ]
     },
     "execution_count": 55,
     "metadata": {},
     "output_type": "execute_result"
    }
   ],
   "source": [
    "df.reset_index()"
   ]
  },
  {
   "cell_type": "code",
   "execution_count": 57,
   "id": "4f588f20-1e74-42c1-8170-be475ac0aad6",
   "metadata": {},
   "outputs": [
    {
     "data": {
      "image/png": "[encoded data removed]",
      "text/plain": [
       "<Figure size 640x480 with 1 Axes>"
      ]
     },
     "metadata": {},
     "output_type": "display_data"
    }
   ],
   "source": [
    "sns.boxplot(x='bmi',data=df)\n",
    "plt.show()"
   ]
  },
  {
   "cell_type": "code",
   "execution_count": null,
   "id": "84bcd269-f138-443d-bb3a-677cc826067f",
   "metadata": {},
   "outputs": [],
   "source": []
  }
 ],
 "metadata": {
  "kernelspec": {
   "display_name": "Python [conda env:base] *",
   "language": "python",
   "name": "conda-base-py"
  },
  "language_info": {
   "codemirror_mode": {
    "name": "ipython",
    "version": 3
   },
   "file_extension": ".py",
   "mimetype": "text/x-python",
   "name": "python",
   "nbconvert_exporter": "python",
   "pygments_lexer": "ipython3",
   "version": "3.12.7"
  }
 },
 "nbformat": 4,
 "nbformat_minor": 5
}
